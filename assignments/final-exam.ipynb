{
 "cells": [
  {
   "attachments": {},
   "cell_type": "markdown",
   "id": "dbaebb6e-6537-41b7-989b-647194a38dd5",
   "metadata": {
    "tags": []
   },
   "source": [
    "# Final Exam (15 pts)\n",
    "\n",
    "The first portion of the exam is graded.\n",
    "\n",
    "The second portion of the exam will help me to understand how well you retained the course material."
   ]
  },
  {
   "attachments": {},
   "cell_type": "markdown",
   "id": "c1c8512b-74da-494b-8353-69f22c6f8c20",
   "metadata": {},
   "source": [
    "---\n",
    "1. (3 pts) Write a function that takes a list of integer values as input and returns two new lists that contain the even or odd values in the input list, respectively."
   ]
  },
  {
   "cell_type": "code",
   "execution_count": null,
   "id": "309fbee1-1eae-4148-b9fa-c9625eb9270a",
   "metadata": {},
   "outputs": [],
   "source": []
  },
  {
   "attachments": {},
   "cell_type": "markdown",
   "id": "6bdfcc44-75c2-4a78-bfd1-852b5ddcb00c",
   "metadata": {},
   "source": [
    "---\n",
    "2. (3 pts) Given the numpy arrays `measurements` and `predictions` below, use numpy to compute the mean squared error between each measurement and its associated prediction. *Use numpy's functionality for this, do NOT write a for loop and compute the error individually for each data point.*"
   ]
  },
  {
   "cell_type": "code",
   "execution_count": null,
   "id": "a15c5348-d216-484b-841d-fe9fedd8c2a4",
   "metadata": {},
   "outputs": [],
   "source": [
    "import numpy as np\n",
    "np.random.seed(0)\n",
    "measurements = np.random.random((100,))\n",
    "predictions = np.random.random((100,))"
   ]
  },
  {
   "cell_type": "code",
   "execution_count": null,
   "id": "4d7cd07d-82c0-4bbf-b20d-3c1f65a103d0",
   "metadata": {},
   "outputs": [],
   "source": []
  },
  {
   "cell_type": "markdown",
   "id": "32cb91e6-ede5-46d8-b2bc-d85f6a2601e3",
   "metadata": {
    "editable": true,
    "slideshow": {
     "slide_type": ""
    },
    "tags": []
   },
   "source": [
    "---\n",
    "3. (3 pts) A neuron is spiking at an average rate of 3 spikes/sec. What is the probability that you will not observe any spikes within a 300 ms period?"
   ]
  },
  {
   "cell_type": "code",
   "execution_count": null,
   "id": "9636caed-5a93-4cdc-b810-0d4a35392d7f",
   "metadata": {},
   "outputs": [],
   "source": []
  },
  {
   "cell_type": "markdown",
   "id": "ef90bb0d-7c4a-4c56-a3f6-0545c2bbd74a",
   "metadata": {
    "editable": true,
    "slideshow": {
     "slide_type": ""
    },
    "tags": []
   },
   "source": [
    "---\n",
    "4. (3 pts) You measure the spike rate of a neuron for each of 1,000 repeated trials in two conditions: control buffer and with addition of an experimental drug (see data arrays `control_spike_rate_Hz` and `drug_spike_rate_Hz` below, units are Hz). Use a permutation test to answer the question: Does the drug alter the neuron's mean spike rate? Include a plot of the histogram of permuted spike rate differences with vertical lines for the 95% confidence interval and the measured difference in mean spike rates. Put your answer to the above question in the plot's title."
   ]
  },
  {
   "cell_type": "code",
   "execution_count": null,
   "id": "cf7ddd16-1580-4518-88bd-4f8c69d39052",
   "metadata": {},
   "outputs": [],
   "source": [
    "np.random.seed(0)\n",
    "control_spike_rate_Hz = np.random.randn(1000) * 3 + 10\n",
    "drug_spike_rate_Hz = np.random.randn(1000) * 4 + 11"
   ]
  },
  {
   "cell_type": "code",
   "execution_count": null,
   "id": "feb656f8-499d-4d31-9863-658ee60816e5",
   "metadata": {},
   "outputs": [],
   "source": []
  },
  {
   "cell_type": "markdown",
   "id": "0a632c5f-c020-48e4-b1af-883a8de16198",
   "metadata": {
    "editable": true,
    "slideshow": {
     "slide_type": ""
    },
    "tags": []
   },
   "source": [
    "---\n",
    "5. (3 pts) If you sample a time series signal at 100 Hz, what is the fastest frequency you can resolve in the signal?"
   ]
  },
  {
   "cell_type": "markdown",
   "id": "af3601c1-ae6d-423e-8d13-decb73cde859",
   "metadata": {},
   "source": []
  },
  {
   "cell_type": "markdown",
   "id": "ca19b170-ada4-45c8-89e1-99134baf5fd0",
   "metadata": {
    "editable": true,
    "slideshow": {
     "slide_type": ""
    },
    "tags": []
   },
   "source": [
    "---\n",
    "6. (**EXTRA CREDIT**) *Please fill out the course evaluation survey (should be available via Canvas).* If more than 50% of the class fills this out, I will award everyone 2 pts of extra credit."
   ]
  },
  {
   "cell_type": "markdown",
   "id": "5a79c882-e885-46b1-a437-ebcaea19eee6",
   "metadata": {
    "editable": true,
    "slideshow": {
     "slide_type": ""
    },
    "tags": []
   },
   "source": [
    "---\n",
    "*The following questions are **NOT graded**.* They refer to the time-averaged responses of ~20,000 neurons in visual cortex to ~4,000 stimulus gratings of different orientations from 0-360 degrees, recorded through Calcium imaging (https://www.biorxiv.org/content/10.1101/679324v2.abstract). The responses have been normalized by spontaneous levels of activity and then z-scored over stimuli, so expect negative numbers. They have also been binned and averaged to each degree of orientation.\n",
    "\n",
    "![](grating-mouse.png)"
   ]
  },
  {
   "cell_type": "code",
   "execution_count": null,
   "id": "83971262-7811-4473-a8ea-4b1943d17288",
   "metadata": {
    "editable": true,
    "slideshow": {
     "slide_type": ""
    },
    "tags": []
   },
   "outputs": [],
   "source": [
    "# Files are in the /assignments folder where you obtained this notebook from.\n",
    "# Download the files and put them in the same folder as this notebook.\n",
    "neural_responses = np.load('neural_responses.npy')\n",
    "grating_orientations = np.load('grating_orientations.npy')\n",
    "\n",
    "neural_responses.shape, grating_orientations.shape"
   ]
  },
  {
   "cell_type": "code",
   "execution_count": null,
   "id": "74d46d52-a7d1-44cf-a355-4b28e1ee90b3",
   "metadata": {
    "editable": true,
    "slideshow": {
     "slide_type": "slide"
    },
    "tags": []
   },
   "outputs": [],
   "source": [
    "plt.imshow(neural_responses[:,:100], aspect='auto')\n",
    "plt.xlabel('Neuron')\n",
    "plt.ylabel('Grating Orientation (degrees)')\n",
    "plt.title('First 100 neurons out of 23,589 total neurons');"
   ]
  },
  {
   "cell_type": "markdown",
   "id": "8eff5086-98cf-4b65-bdf7-4ce023758a7b",
   "metadata": {
    "editable": true,
    "slideshow": {
     "slide_type": ""
    },
    "tags": []
   },
   "source": [
    "---\n",
    "7. (*not graded*) Use cross validation to determine the optimal learning rate and regularization strength for a neural network designed to predict grating orientation based on neural activity in V1. The network should have three layers comprised of 1000, 100, and 10 neurons, respectively.\n",
    "\n",
    "**Save your work before doing this problem.**\n",
    "\n",
    "**!!! Executing this code block will likely take longer than the length of this class, so it is OK to not have any output. Just fill in the missing parts of the code below without actually running the code.**\n",
    "\n",
    "*Note: You may need to look up the documentation for MLPRegressor to find the correct parameter names for learning rate and regularization strength.*"
   ]
  },
  {
   "cell_type": "code",
   "execution_count": null,
   "id": "6f82b89f-edac-44a5-9d21-f96e02bc39a6",
   "metadata": {},
   "outputs": [],
   "source": [
    "from sklearn.neural_network import MLPRegressor\n",
    "from sklearn.model_selection import RandomizedSearchCV\n",
    "\n",
    "X = neural_responses\n",
    "y = grating_orientations / 360  # transform to range [0, 1]\n",
    "\n",
    "model = MLPRegressor(...)\n",
    "\n",
    "learning_rates = np.logspace(-4, -2, 30)\n",
    "regularization_strengths = np.logspace(-5, -3, 30)\n",
    "params = ...\n",
    "\n",
    "search = RandomizedSearchCV(..., cv=3)\n",
    "...\n",
    "\n",
    "model = search.best_estimator_\n",
    "model"
   ]
  },
  {
   "cell_type": "markdown",
   "id": "001bbe0b-e9a2-473f-8785-b02c9cdff064",
   "metadata": {
    "editable": true,
    "slideshow": {
     "slide_type": ""
    },
    "tags": []
   },
   "source": [
    "---\n",
    "8. (*not graded*) For each grating orientation, project the 23,589-dimensional neural activity onto 2 dimensions using principal component analysis. Plot the 2-D projected activity."
   ]
  },
  {
   "cell_type": "code",
   "execution_count": null,
   "id": "7f1e8119-862e-4609-87b9-e0577d9624be",
   "metadata": {},
   "outputs": [],
   "source": []
  },
  {
   "cell_type": "markdown",
   "id": "1bdc0da9-16c2-43aa-ae96-71dbad9d1757",
   "metadata": {
    "editable": true,
    "slideshow": {
     "slide_type": ""
    },
    "tags": []
   },
   "source": [
    "---\n",
    "9. (*not graded*) Cluster the projected 2-D data points from #8 above using a Gaussian mixture model (use BIC to determine the optimal number of clusters to use; try 1-10 clusters). Plot the 2-D projected points colored by their cluster label."
   ]
  },
  {
   "cell_type": "code",
   "execution_count": null,
   "id": "fe988a3e-e7b2-4247-b501-a3358c4c5807",
   "metadata": {},
   "outputs": [],
   "source": []
  }
 ],
 "metadata": {
  "kernelspec": {
   "display_name": "Python 3 (ipykernel)",
   "language": "python",
   "name": "python3"
  },
  "language_info": {
   "codemirror_mode": {
    "name": "ipython",
    "version": 3
   },
   "file_extension": ".py",
   "mimetype": "text/x-python",
   "name": "python",
   "nbconvert_exporter": "python",
   "pygments_lexer": "ipython3",
   "version": "3.12.1"
  }
 },
 "nbformat": 4,
 "nbformat_minor": 5
}
