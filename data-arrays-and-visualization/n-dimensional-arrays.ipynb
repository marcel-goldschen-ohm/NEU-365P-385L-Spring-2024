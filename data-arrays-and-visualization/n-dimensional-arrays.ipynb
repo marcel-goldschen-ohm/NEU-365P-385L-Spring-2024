{
 "cells": [
  {
   "cell_type": "code",
   "execution_count": 1,
   "id": "01df27fd",
   "metadata": {
    "slideshow": {
     "slide_type": "skip"
    }
   },
   "outputs": [
    {
     "data": {
      "text/html": [
       "<link rel=\"stylesheet\" type=\"text/css\" href=\"rise.css\" />\n"
      ],
      "text/plain": [
       "<IPython.core.display.HTML object>"
      ]
     },
     "metadata": {},
     "output_type": "display_data"
    }
   ],
   "source": [
    "%%html\n",
    "<link rel=\"stylesheet\" type=\"text/css\" href=\"rise.css\" />"
   ]
  },
  {
   "cell_type": "markdown",
   "id": "990763ef",
   "metadata": {
    "slideshow": {
     "slide_type": "slide"
    }
   },
   "source": [
    "# Multi-dimensional data arrays"
   ]
  },
  {
   "cell_type": "markdown",
   "id": "0cd31932",
   "metadata": {
    "slideshow": {
     "slide_type": "slide"
    }
   },
   "source": [
    "### Digital representation of data\n",
    "\n",
    "<img src=\"images/analog-to-digital.png\">"
   ]
  },
  {
   "cell_type": "code",
   "execution_count": 2,
   "id": "9482e7fb",
   "metadata": {},
   "outputs": [],
   "source": [
    "digital_signal = [0, 1, 4, 4, 4, 2, 2, 1, 2, 4, 5]\n",
    "sample_interval = 1"
   ]
  },
  {
   "cell_type": "markdown",
   "id": "f8bf9714",
   "metadata": {
    "slideshow": {
     "slide_type": "slide"
    }
   },
   "source": [
    "### Multi-dimensional data arrays\n",
    "\n",
    "The vast majority of the data that you will work with will be stored as arrays of values in some number of dimensions.\n",
    "\n",
    "Let's consider some examples."
   ]
  },
  {
   "cell_type": "markdown",
   "id": "f7f54753",
   "metadata": {
    "slideshow": {
     "slide_type": "slide"
    }
   },
   "source": [
    "### **1-D**: Time series at regular sample intervals\n",
    "\n",
    "<img src=\"images/1d-array-example.png\">"
   ]
  },
  {
   "cell_type": "markdown",
   "id": "ff0f53d0",
   "metadata": {
    "slideshow": {
     "slide_type": "slide"
    }
   },
   "source": [
    "### **1-D**: DNA sequence\n",
    "\n",
    "<img src=\"images/1d-array-dna-rna-prot.webp\">"
   ]
  },
  {
   "cell_type": "markdown",
   "id": "f99bc871",
   "metadata": {
    "slideshow": {
     "slide_type": "slide"
    }
   },
   "source": [
    "### **2-D**: Grayscale image\n",
    "\n",
    "<img src=\"images/image-2d.png\">"
   ]
  },
  {
   "cell_type": "markdown",
   "id": "ae467050",
   "metadata": {
    "slideshow": {
     "slide_type": "slide"
    }
   },
   "source": [
    "### **3-D**: Color image\n",
    "\n",
    "<img src=\"images/image-3d.png\">"
   ]
  },
  {
   "cell_type": "markdown",
   "id": "61d1d7b2",
   "metadata": {
    "slideshow": {
     "slide_type": "slide"
    }
   },
   "source": [
    "### **2-D**: EEG *time series* for multiple *locations*\n",
    "\n",
    "<img src=\"images/EEGs-2d.png\">"
   ]
  },
  {
   "cell_type": "markdown",
   "id": "6d148053",
   "metadata": {
    "slideshow": {
     "slide_type": "slide"
    }
   },
   "source": [
    "### **3-D**: EEG *time series* for multiple *locations, trials*\n",
    "\n",
    "<img src=\"images/EEGs-3d.png\" width=\"90%\">"
   ]
  },
  {
   "cell_type": "markdown",
   "id": "aa06e722",
   "metadata": {
    "slideshow": {
     "slide_type": "slide"
    }
   },
   "source": [
    "### **N-D**: EEG *time series* for multiple *locations, trials, subjects, conditions, ...*\n",
    "\n",
    "Hard to visualize, but easy to use mathematically and in code.\n",
    "\n",
    "<img src=\"images/EEGs-3d.png\" width=\"75%\">"
   ]
  },
  {
   "cell_type": "markdown",
   "id": "c027f841",
   "metadata": {
    "slideshow": {
     "slide_type": "slide"
    }
   },
   "source": [
    "# [NumPy](https://numpy.org)\n",
    "\n",
    "### **Without NumPy we would *NOT USE PYTHON* for scientific computing or data analysis.**\n",
    "\n",
    "Here's a quick comparison of NumPy with Python lists to give you an idea of why it is so essential.\n",
    "\n",
    "| Python lists | NumPy arrays |\n",
    "| ------------ | ------------ |\n",
    "| Very inefficient and slow for large arrays. | Highly optimized C code behind the scenes. |\n",
    "| Nested lists are a nightmare for multi-dimensional data arrays. | N-dimensional array syntax is simple and easy. |\n",
    "| Great for small arrays of arbitrary types of objects. | Only allows arrays of the same type of object. |"
   ]
  },
  {
   "cell_type": "markdown",
   "id": "0c54f403",
   "metadata": {
    "slideshow": {
     "slide_type": "slide"
    }
   },
   "source": [
    "# Install [NumPy](https://numpy.org)\n",
    "\n",
    "In a cmd shell or terminal run:\n",
    "```console\n",
    "conda activate neu365\n",
    "pip install numpy\n",
    "```"
   ]
  },
  {
   "cell_type": "markdown",
   "id": "40aab25e",
   "metadata": {
    "editable": true,
    "slideshow": {
     "slide_type": "slide"
    },
    "tags": []
   },
   "source": [
    "# NumPy 1-D arrays\n",
    "\n",
    "**Learning goals**\n",
    "\n",
    "- You will be able to initialize arrays.\n",
    "- You will be able to index/slice into arrays.\n",
    "- You will be able to index/slice with logical masks.\n",
    "- You will be able to compute array statistics.\n",
    "- You will be able to do array math."
   ]
  },
  {
   "cell_type": "markdown",
   "id": "acb7f6c8",
   "metadata": {
    "editable": true,
    "slideshow": {
     "slide_type": "slide"
    },
    "tags": []
   },
   "source": [
    "### NumPy 1-D array initialization"
   ]
  },
  {
   "cell_type": "markdown",
   "id": "8058cb8e-7274-4d13-a7f3-ae178b7180a8",
   "metadata": {
    "editable": true,
    "slideshow": {
     "slide_type": "-"
    },
    "tags": []
   },
   "source": [
    "NumPy arrays generally *cannot change size*, so you must *create the array for the size you need*.\n",
    "\n",
    "<img src=\"images/numpy-1darray-init.drawio.svg\" width=\"100%\">"
   ]
  },
  {
   "cell_type": "code",
   "execution_count": 3,
   "id": "74df7327",
   "metadata": {
    "editable": true,
    "slideshow": {
     "slide_type": "fragment"
    },
    "tags": []
   },
   "outputs": [
    {
     "data": {
      "text/plain": [
       "array([1, 2, 3])"
      ]
     },
     "execution_count": 3,
     "metadata": {},
     "output_type": "execute_result"
    }
   ],
   "source": [
    "import numpy\n",
    "\n",
    "numpy.array([1, 2, 3])"
   ]
  },
  {
   "cell_type": "code",
   "execution_count": 4,
   "id": "a61efb2b",
   "metadata": {
    "editable": true,
    "slideshow": {
     "slide_type": "fragment"
    },
    "tags": []
   },
   "outputs": [
    {
     "data": {
      "text/plain": [
       "array([1, 2, 3])"
      ]
     },
     "execution_count": 4,
     "metadata": {},
     "output_type": "execute_result"
    }
   ],
   "source": [
    "import numpy as np\n",
    "\n",
    "np.array([1, 2, 3])"
   ]
  },
  {
   "cell_type": "code",
   "execution_count": 5,
   "id": "fbca82b4",
   "metadata": {
    "slideshow": {
     "slide_type": "fragment"
    }
   },
   "outputs": [
    {
     "data": {
      "text/plain": [
       "(array([1., 1., 1.]),\n",
       " array([0., 0., 0.]),\n",
       " array([0.326398  , 0.7878623 , 0.90420253]))"
      ]
     },
     "execution_count": 5,
     "metadata": {},
     "output_type": "execute_result"
    }
   ],
   "source": [
    "np.ones(3), np.zeros(3), np.random.random(3)"
   ]
  },
  {
   "cell_type": "markdown",
   "id": "3ac23875",
   "metadata": {
    "slideshow": {
     "slide_type": "slide"
    }
   },
   "source": [
    "### Index and slice just like a Python list"
   ]
  },
  {
   "cell_type": "markdown",
   "id": "ab80a28b",
   "metadata": {
    "cell_style": "split",
    "slideshow": {
     "slide_type": "-"
    }
   },
   "source": [
    "<img src=\"images/numpy-1darray-slice.drawio.svg\" width=\"100%\">"
   ]
  },
  {
   "cell_type": "code",
   "execution_count": 6,
   "id": "d094ce5a",
   "metadata": {
    "cell_style": "split",
    "slideshow": {
     "slide_type": "fragment"
    }
   },
   "outputs": [
    {
     "data": {
      "text/plain": [
       "array([1, 2, 3])"
      ]
     },
     "execution_count": 6,
     "metadata": {},
     "output_type": "execute_result"
    }
   ],
   "source": [
    "data = np.array([1, 2, 3])\n",
    "\n",
    "data"
   ]
  },
  {
   "cell_type": "code",
   "execution_count": 7,
   "id": "0138c249",
   "metadata": {
    "cell_style": "split"
   },
   "outputs": [
    {
     "data": {
      "text/plain": [
       "(1, 2, array([1, 2]), array([2, 3]))"
      ]
     },
     "execution_count": 7,
     "metadata": {},
     "output_type": "execute_result"
    }
   ],
   "source": [
    "data[0], data[1], data[0:2], data[1:]"
   ]
  },
  {
   "cell_type": "markdown",
   "id": "6784cf10",
   "metadata": {
    "slideshow": {
     "slide_type": "slide"
    }
   },
   "source": [
    "### !!! A slice into a NumPy array can be assigned to a variable and it will still **reference the original array data** (not a copy)"
   ]
  },
  {
   "cell_type": "markdown",
   "id": "46c2f408",
   "metadata": {
    "cell_style": "split",
    "slideshow": {
     "slide_type": "-"
    }
   },
   "source": [
    "<img src=\"images/numpy-1darray-slice-ref.drawio.svg\" width=\"100%\">"
   ]
  },
  {
   "cell_type": "code",
   "execution_count": 8,
   "id": "2bcc5cc6",
   "metadata": {
    "cell_style": "split",
    "slideshow": {
     "slide_type": "fragment"
    }
   },
   "outputs": [
    {
     "data": {
      "text/plain": [
       "array([2, 3])"
      ]
     },
     "execution_count": 8,
     "metadata": {},
     "output_type": "execute_result"
    }
   ],
   "source": [
    "myarray = np.array([1, 2, 3])\n",
    "array_slice = myarray[1:]\n",
    "\n",
    "# reference to data in myarray\n",
    "array_slice"
   ]
  },
  {
   "cell_type": "code",
   "execution_count": 9,
   "id": "e65cf3ae",
   "metadata": {
    "cell_style": "split"
   },
   "outputs": [
    {
     "data": {
      "text/plain": [
       "array([-8,  3])"
      ]
     },
     "execution_count": 9,
     "metadata": {},
     "output_type": "execute_result"
    }
   ],
   "source": [
    "array_slice[0] = -8\n",
    "array_slice"
   ]
  },
  {
   "cell_type": "code",
   "execution_count": 10,
   "id": "88466789",
   "metadata": {
    "cell_style": "split"
   },
   "outputs": [
    {
     "data": {
      "text/plain": [
       "array([ 1, -8,  3])"
      ]
     },
     "execution_count": 10,
     "metadata": {},
     "output_type": "execute_result"
    }
   ],
   "source": [
    "myarray"
   ]
  },
  {
   "cell_type": "markdown",
   "id": "24a6d87a",
   "metadata": {
    "slideshow": {
     "slide_type": "slide"
    }
   },
   "source": [
    "### In contrast, assigning a slice of a Python list to a variable **creates a copy**"
   ]
  },
  {
   "cell_type": "markdown",
   "id": "490b54c5",
   "metadata": {
    "cell_style": "split",
    "slideshow": {
     "slide_type": "-"
    }
   },
   "source": [
    "<img src=\"images/list-slice-copy.drawio.svg\" width=\"100%\">"
   ]
  },
  {
   "cell_type": "code",
   "execution_count": 11,
   "id": "eccfe17a",
   "metadata": {
    "cell_style": "split",
    "slideshow": {
     "slide_type": "fragment"
    }
   },
   "outputs": [
    {
     "data": {
      "text/plain": [
       "[2, 3]"
      ]
     },
     "execution_count": 11,
     "metadata": {},
     "output_type": "execute_result"
    }
   ],
   "source": [
    "mylist = [1, 2, 3]\n",
    "list_slice = mylist[1:]\n",
    "\n",
    "# copy of data from mylist\n",
    "list_slice"
   ]
  },
  {
   "cell_type": "code",
   "execution_count": 12,
   "id": "9522a2af",
   "metadata": {
    "cell_style": "split"
   },
   "outputs": [
    {
     "data": {
      "text/plain": [
       "[-8, 3]"
      ]
     },
     "execution_count": 12,
     "metadata": {},
     "output_type": "execute_result"
    }
   ],
   "source": [
    "list_slice[0] = -8\n",
    "list_slice"
   ]
  },
  {
   "cell_type": "code",
   "execution_count": 13,
   "id": "8a7db3e6",
   "metadata": {
    "cell_style": "split"
   },
   "outputs": [
    {
     "data": {
      "text/plain": [
       "[1, 2, 3]"
      ]
     },
     "execution_count": 13,
     "metadata": {},
     "output_type": "execute_result"
    }
   ],
   "source": [
    "mylist"
   ]
  },
  {
   "cell_type": "markdown",
   "id": "51b4ea62",
   "metadata": {
    "slideshow": {
     "slide_type": "slide"
    }
   },
   "source": [
    "This means you can pass a slice to a function and still mutate the original array!"
   ]
  },
  {
   "cell_type": "code",
   "execution_count": 14,
   "id": "0a4bde7e",
   "metadata": {},
   "outputs": [
    {
     "data": {
      "text/plain": [
       "array([  1, 100,   3])"
      ]
     },
     "execution_count": 14,
     "metadata": {},
     "output_type": "execute_result"
    }
   ],
   "source": [
    "myarray = np.array([1, 2, 3])\n",
    "\n",
    "myslice = myarray[1:]\n",
    "\n",
    "def change_array(arr):\n",
    "    arr[0] = 100\n",
    "\n",
    "change_array(myslice)\n",
    "\n",
    "myarray"
   ]
  },
  {
   "cell_type": "markdown",
   "id": "9c1d95a4",
   "metadata": {
    "slideshow": {
     "slide_type": "slide"
    }
   },
   "source": [
    "What if you want a copy of a slice into a NumPy array?"
   ]
  },
  {
   "cell_type": "code",
   "execution_count": 15,
   "id": "be0121f2",
   "metadata": {
    "cell_style": "split"
   },
   "outputs": [
    {
     "name": "stdout",
     "output_type": "stream",
     "text": [
      " ref =  [2 3]\n",
      "copy =  [2 3]\n"
     ]
    }
   ],
   "source": [
    "myarray = np.array([1, 2, 3])\n",
    "\n",
    "ref_slice = myarray[1:]\n",
    "\n",
    "copy_slice = myarray[1:].copy()\n",
    "\n",
    "print(' ref = ', ref_slice)\n",
    "print('copy = ', copy_slice)"
   ]
  },
  {
   "cell_type": "code",
   "execution_count": 16,
   "id": "f28e7c04",
   "metadata": {
    "cell_style": "split",
    "slideshow": {
     "slide_type": "fragment"
    }
   },
   "outputs": [
    {
     "name": "stdout",
     "output_type": "stream",
     "text": [
      " ref =  [-50   3]\n",
      "copy =  [100   3]\n"
     ]
    }
   ],
   "source": [
    "ref_slice[0] = -50\n",
    "copy_slice[0] = 100\n",
    "\n",
    "print(' ref = ', ref_slice)\n",
    "print('copy = ', copy_slice)"
   ]
  },
  {
   "cell_type": "markdown",
   "id": "6a316fae",
   "metadata": {
    "cell_style": "center"
   },
   "source": [
    "What happened to `myarray`?"
   ]
  },
  {
   "cell_type": "code",
   "execution_count": 17,
   "id": "e5204084",
   "metadata": {
    "cell_style": "center",
    "slideshow": {
     "slide_type": "fragment"
    }
   },
   "outputs": [
    {
     "data": {
      "text/plain": [
       "array([  1, -50,   3])"
      ]
     },
     "execution_count": 17,
     "metadata": {},
     "output_type": "execute_result"
    }
   ],
   "source": [
    "myarray"
   ]
  },
  {
   "cell_type": "markdown",
   "id": "f8eae94c",
   "metadata": {
    "slideshow": {
     "slide_type": "slide"
    }
   },
   "source": [
    "### NumPy also let's you **slice with logical arrays**!"
   ]
  },
  {
   "cell_type": "markdown",
   "id": "dd066aef",
   "metadata": {
    "cell_style": "split",
    "slideshow": {
     "slide_type": "-"
    }
   },
   "source": [
    "<img src=\"images/numpy-1darray-logical-slice.drawio.svg\" width=\"100%\">"
   ]
  },
  {
   "cell_type": "code",
   "execution_count": 18,
   "id": "89aff88d",
   "metadata": {
    "cell_style": "split",
    "slideshow": {
     "slide_type": "fragment"
    }
   },
   "outputs": [
    {
     "data": {
      "text/plain": [
       "array([False,  True,  True])"
      ]
     },
     "execution_count": 18,
     "metadata": {},
     "output_type": "execute_result"
    }
   ],
   "source": [
    "data = np.array([1, 2, 3])\n",
    "mask = data > 1\n",
    "\n",
    "mask"
   ]
  },
  {
   "cell_type": "code",
   "execution_count": 19,
   "id": "5befc8ef",
   "metadata": {
    "cell_style": "split",
    "slideshow": {
     "slide_type": "-"
    }
   },
   "outputs": [
    {
     "data": {
      "text/plain": [
       "array([2, 3])"
      ]
     },
     "execution_count": 19,
     "metadata": {},
     "output_type": "execute_result"
    }
   ],
   "source": [
    "data[mask]"
   ]
  },
  {
   "cell_type": "code",
   "execution_count": 20,
   "id": "239ad6cb",
   "metadata": {
    "cell_style": "split"
   },
   "outputs": [
    {
     "data": {
      "text/plain": [
       "array([1, 3])"
      ]
     },
     "execution_count": 20,
     "metadata": {},
     "output_type": "execute_result"
    }
   ],
   "source": [
    "data[data != 2]"
   ]
  },
  {
   "cell_type": "markdown",
   "id": "46c6718a",
   "metadata": {
    "slideshow": {
     "slide_type": "slide"
    }
   },
   "source": [
    "### Array statistics are a breeze with NumPy!"
   ]
  },
  {
   "cell_type": "code",
   "execution_count": 21,
   "id": "2590ce2d",
   "metadata": {},
   "outputs": [
    {
     "data": {
      "text/plain": [
       "2.0"
      ]
     },
     "execution_count": 21,
     "metadata": {},
     "output_type": "execute_result"
    }
   ],
   "source": [
    "data = np.array([1, 2, 3])\n",
    "\n",
    "data.mean()"
   ]
  },
  {
   "cell_type": "code",
   "execution_count": 22,
   "id": "8397de26",
   "metadata": {
    "slideshow": {
     "slide_type": "fragment"
    }
   },
   "outputs": [
    {
     "data": {
      "text/plain": [
       "(1, 3, 6, 6)"
      ]
     },
     "execution_count": 22,
     "metadata": {},
     "output_type": "execute_result"
    }
   ],
   "source": [
    "data.min(), data.max(), data.sum(), data.prod()"
   ]
  },
  {
   "cell_type": "code",
   "execution_count": 23,
   "id": "eb6aebb9",
   "metadata": {
    "slideshow": {
     "slide_type": "fragment"
    }
   },
   "outputs": [
    {
     "data": {
      "text/plain": [
       "(0.6666666666666666, 0.816496580927726)"
      ]
     },
     "execution_count": 23,
     "metadata": {},
     "output_type": "execute_result"
    }
   ],
   "source": [
    "# variance and standard deviation\n",
    "\n",
    "data.var(), data.std()"
   ]
  },
  {
   "cell_type": "code",
   "execution_count": 24,
   "id": "ce95dbd9",
   "metadata": {
    "slideshow": {
     "slide_type": "fragment"
    }
   },
   "outputs": [
    {
     "data": {
      "text/plain": [
       "2.0"
      ]
     },
     "execution_count": 24,
     "metadata": {},
     "output_type": "execute_result"
    }
   ],
   "source": [
    "np.mean(data)"
   ]
  },
  {
   "cell_type": "markdown",
   "id": "b38c4cf8",
   "metadata": {
    "slideshow": {
     "slide_type": "slide"
    }
   },
   "source": [
    "### Array math is a breeze with NumPy!"
   ]
  },
  {
   "cell_type": "markdown",
   "id": "bcddd339",
   "metadata": {
    "cell_style": "split",
    "slideshow": {
     "slide_type": "-"
    }
   },
   "source": [
    "<img src=\"images/numpy-1darray-math.drawio.svg\" width=\"90%\">"
   ]
  },
  {
   "cell_type": "code",
   "execution_count": 25,
   "id": "e8bb62fd",
   "metadata": {
    "cell_style": "split",
    "slideshow": {
     "slide_type": "fragment"
    }
   },
   "outputs": [],
   "source": [
    "data = np.array([1, 2, 3])\n",
    "ones = np.ones(3)"
   ]
  },
  {
   "cell_type": "code",
   "execution_count": 26,
   "id": "01fa360d",
   "metadata": {
    "cell_style": "split",
    "slideshow": {
     "slide_type": "-"
    }
   },
   "outputs": [
    {
     "name": "stdout",
     "output_type": "stream",
     "text": [
      "[2. 3. 4.]\n",
      "[0. 1. 2.]\n",
      "[1 4 9]\n",
      "[1. 1. 1.]\n",
      "[ 1  8 27]\n"
     ]
    }
   ],
   "source": [
    "print(data + ones)\n",
    "print(data - ones)\n",
    "print(data * data)\n",
    "print(data / data)\n",
    "print(data**3)"
   ]
  },
  {
   "cell_type": "code",
   "execution_count": 27,
   "id": "18f02a98",
   "metadata": {
    "cell_style": "split",
    "slideshow": {
     "slide_type": "fragment"
    }
   },
   "outputs": [
    {
     "data": {
      "text/plain": [
       "array([4, 6, 8])"
      ]
     },
     "execution_count": 27,
     "metadata": {},
     "output_type": "execute_result"
    }
   ],
   "source": [
    "2 * (data + 1)"
   ]
  },
  {
   "cell_type": "markdown",
   "id": "fc77a0dd",
   "metadata": {
    "slideshow": {
     "slide_type": "slide"
    }
   },
   "source": [
    "### Some useful array functions: **arange**, **linspace**, **logspace**"
   ]
  },
  {
   "cell_type": "code",
   "execution_count": 28,
   "id": "808679fb",
   "metadata": {},
   "outputs": [
    {
     "data": {
      "text/plain": [
       "array([ 2,  4,  6,  8, 10])"
      ]
     },
     "execution_count": 28,
     "metadata": {},
     "output_type": "execute_result"
    }
   ],
   "source": [
    "# start, stop, step\n",
    "\n",
    "np.arange(2, 12, 2)"
   ]
  },
  {
   "cell_type": "code",
   "execution_count": 29,
   "id": "48a234cc",
   "metadata": {
    "slideshow": {
     "slide_type": "fragment"
    }
   },
   "outputs": [
    {
     "data": {
      "text/plain": [
       "array([0.  , 0.25, 0.5 , 0.75, 1.  ])"
      ]
     },
     "execution_count": 29,
     "metadata": {},
     "output_type": "execute_result"
    }
   ],
   "source": [
    "# 5 values from 0 to 1\n",
    "# evenly spaced on a linear scale\n",
    "\n",
    "np.linspace(0, 1, 5)"
   ]
  },
  {
   "cell_type": "code",
   "execution_count": 30,
   "id": "3a83a6d6",
   "metadata": {
    "slideshow": {
     "slide_type": "fragment"
    }
   },
   "outputs": [
    {
     "data": {
      "text/plain": [
       "array([ 0.1       ,  0.31622777,  1.        ,  3.16227766, 10.        ])"
      ]
     },
     "execution_count": 30,
     "metadata": {},
     "output_type": "execute_result"
    }
   ],
   "source": [
    "# 5 values from 10^-1 to 10^1\n",
    "# evenly spaced on a log scale\n",
    "\n",
    "np.logspace(-1, 1, 5)"
   ]
  },
  {
   "cell_type": "markdown",
   "id": "a8c5e179",
   "metadata": {
    "cell_style": "center",
    "slideshow": {
     "slide_type": "slide"
    }
   },
   "source": [
    "# NumPy 2-D arrays\n",
    "\n",
    "**Learning goals**\n",
    "- You will be able to initialize arrays.\n",
    "- You will be able to index/slice into arrays.\n",
    "- You will be able to index/slice with logical masks.\n",
    "- You will be able to compute array statistics.\n",
    "- You will be able to do array math.\n",
    "- You will understand broadcasting."
   ]
  },
  {
   "cell_type": "markdown",
   "id": "bd540eb0",
   "metadata": {
    "slideshow": {
     "slide_type": "slide"
    }
   },
   "source": [
    "### NumPy 2-D array initialization"
   ]
  },
  {
   "cell_type": "markdown",
   "id": "2701313e",
   "metadata": {
    "cell_style": "split",
    "slideshow": {
     "slide_type": "-"
    }
   },
   "source": [
    "<img src=\"images/numpy-2darray-init.drawio.svg\" width=\"100%\">"
   ]
  },
  {
   "cell_type": "code",
   "execution_count": 31,
   "id": "bf62deb2",
   "metadata": {
    "cell_style": "split",
    "slideshow": {
     "slide_type": "fragment"
    }
   },
   "outputs": [
    {
     "data": {
      "text/plain": [
       "array([[0., 0., 0.],\n",
       "       [0., 0., 0.]])"
      ]
     },
     "execution_count": 31,
     "metadata": {},
     "output_type": "execute_result"
    }
   ],
   "source": [
    "np.zeros([2, 3])"
   ]
  },
  {
   "cell_type": "code",
   "execution_count": 32,
   "id": "a821ecb9",
   "metadata": {
    "cell_style": "split"
   },
   "outputs": [
    {
     "data": {
      "text/plain": [
       "array([[1., 1., 1.],\n",
       "       [1., 1., 1.]])"
      ]
     },
     "execution_count": 32,
     "metadata": {},
     "output_type": "execute_result"
    }
   ],
   "source": [
    "np.ones([2,3])"
   ]
  },
  {
   "cell_type": "code",
   "execution_count": 33,
   "id": "e7fbaf8c",
   "metadata": {
    "cell_style": "split"
   },
   "outputs": [
    {
     "data": {
      "text/plain": [
       "array([[0.63464258, 0.80357956, 0.02969486],\n",
       "       [0.94341755, 0.77258912, 0.04859342]])"
      ]
     },
     "execution_count": 33,
     "metadata": {},
     "output_type": "execute_result"
    }
   ],
   "source": [
    "np.random.random([2,3])"
   ]
  },
  {
   "cell_type": "markdown",
   "id": "6d0ff11a",
   "metadata": {
    "slideshow": {
     "slide_type": "slide"
    }
   },
   "source": [
    "### NumPy 2-D array indexing/slicing"
   ]
  },
  {
   "cell_type": "markdown",
   "id": "79f07089",
   "metadata": {
    "cell_style": "split",
    "slideshow": {
     "slide_type": "-"
    }
   },
   "source": [
    "<img src=\"images/numpy-2darray-index.drawio.svg\" width=\"50%\">"
   ]
  },
  {
   "cell_type": "code",
   "execution_count": 34,
   "id": "96f976ee",
   "metadata": {
    "cell_style": "split",
    "slideshow": {
     "slide_type": "fragment"
    }
   },
   "outputs": [
    {
     "data": {
      "text/plain": [
       "array([[ 0,  1,  2,  3,  4,  5],\n",
       "       [10, 11, 12, 13, 14, 15],\n",
       "       [20, 21, 22, 23, 24, 25],\n",
       "       [30, 31, 32, 33, 34, 35],\n",
       "       [40, 41, 42, 43, 44, 45],\n",
       "       [50, 51, 52, 53, 54, 55]])"
      ]
     },
     "execution_count": 34,
     "metadata": {},
     "output_type": "execute_result"
    }
   ],
   "source": [
    "# to understand this line\n",
    "# see broadcasting below\n",
    "data = np.arange(6).reshape([1,6]) \\\n",
    "     + np.arange(0, 60, 10).reshape([6,1])\n",
    "data"
   ]
  },
  {
   "cell_type": "code",
   "execution_count": 35,
   "id": "5e379536",
   "metadata": {
    "cell_style": "split"
   },
   "outputs": [
    {
     "data": {
      "text/plain": [
       "23"
      ]
     },
     "execution_count": 35,
     "metadata": {},
     "output_type": "execute_result"
    }
   ],
   "source": [
    "data[2,3]"
   ]
  },
  {
   "cell_type": "markdown",
   "id": "14f9019e",
   "metadata": {
    "slideshow": {
     "slide_type": "slide"
    }
   },
   "source": [
    "### NumPy 2-D array indexing/slicing"
   ]
  },
  {
   "cell_type": "markdown",
   "id": "1c3d51c0",
   "metadata": {
    "cell_style": "split",
    "slideshow": {
     "slide_type": "-"
    }
   },
   "source": [
    "<img src=\"images/numpy-2darray-slice1.drawio.svg\" width=\"50%\">"
   ]
  },
  {
   "cell_type": "code",
   "execution_count": 36,
   "id": "fde1aea6",
   "metadata": {
    "cell_style": "split",
    "slideshow": {
     "slide_type": "fragment"
    }
   },
   "outputs": [
    {
     "data": {
      "text/plain": [
       "array([3, 4])"
      ]
     },
     "execution_count": 36,
     "metadata": {},
     "output_type": "execute_result"
    }
   ],
   "source": [
    "data[0,3:5]"
   ]
  },
  {
   "cell_type": "markdown",
   "id": "a8af0265",
   "metadata": {
    "slideshow": {
     "slide_type": "slide"
    }
   },
   "source": [
    "### NumPy 2-D array indexing/slicing"
   ]
  },
  {
   "cell_type": "markdown",
   "id": "c2245d93",
   "metadata": {
    "cell_style": "split",
    "slideshow": {
     "slide_type": "-"
    }
   },
   "source": [
    "<img src=\"images/numpy-2darray-slice2.drawio.svg\" width=\"50%\">"
   ]
  },
  {
   "cell_type": "code",
   "execution_count": 37,
   "id": "8099a58a",
   "metadata": {
    "cell_style": "split",
    "slideshow": {
     "slide_type": "fragment"
    }
   },
   "outputs": [
    {
     "data": {
      "text/plain": [
       "array([[44, 45],\n",
       "       [54, 55]])"
      ]
     },
     "execution_count": 37,
     "metadata": {},
     "output_type": "execute_result"
    }
   ],
   "source": [
    "data[4:,4:]"
   ]
  },
  {
   "cell_type": "markdown",
   "id": "1ba43b1d",
   "metadata": {
    "slideshow": {
     "slide_type": "slide"
    }
   },
   "source": [
    "### NumPy 2-D array indexing/slicing"
   ]
  },
  {
   "cell_type": "markdown",
   "id": "54611b9b",
   "metadata": {
    "cell_style": "split",
    "slideshow": {
     "slide_type": "-"
    }
   },
   "source": [
    "<img src=\"images/numpy-2darray-slice3.drawio.svg\" width=\"50%\">"
   ]
  },
  {
   "cell_type": "code",
   "execution_count": 38,
   "id": "7fe39cf5",
   "metadata": {
    "cell_style": "split",
    "slideshow": {
     "slide_type": "fragment"
    }
   },
   "outputs": [
    {
     "data": {
      "text/plain": [
       "array([ 2, 12, 22, 32, 42, 52])"
      ]
     },
     "execution_count": 38,
     "metadata": {},
     "output_type": "execute_result"
    }
   ],
   "source": [
    "data[:,2]"
   ]
  },
  {
   "cell_type": "markdown",
   "id": "dfa71cb0",
   "metadata": {
    "slideshow": {
     "slide_type": "slide"
    }
   },
   "source": [
    "### NumPy 2-D array indexing/slicing"
   ]
  },
  {
   "cell_type": "markdown",
   "id": "b0dc0589",
   "metadata": {
    "cell_style": "split",
    "slideshow": {
     "slide_type": "-"
    }
   },
   "source": [
    "<img src=\"images/numpy-2darray-slice4.drawio.svg\" width=\"50%\">"
   ]
  },
  {
   "cell_type": "code",
   "execution_count": 39,
   "id": "09092712",
   "metadata": {
    "cell_style": "split",
    "slideshow": {
     "slide_type": "fragment"
    }
   },
   "outputs": [
    {
     "data": {
      "text/plain": [
       "array([[20, 22, 24],\n",
       "       [40, 42, 44]])"
      ]
     },
     "execution_count": 39,
     "metadata": {},
     "output_type": "execute_result"
    }
   ],
   "source": [
    "data[2::2,::2]"
   ]
  },
  {
   "cell_type": "markdown",
   "id": "c0158973",
   "metadata": {
    "slideshow": {
     "slide_type": "slide"
    }
   },
   "source": [
    "### NumPy 2-D array statistics"
   ]
  },
  {
   "cell_type": "markdown",
   "id": "f0ec7a21",
   "metadata": {
    "cell_style": "split",
    "slideshow": {
     "slide_type": "-"
    }
   },
   "source": [
    "<img src=\"images/numpy-2darray-stats.drawio.svg\" width=\"100%\">"
   ]
  },
  {
   "cell_type": "code",
   "execution_count": 40,
   "id": "0791351c",
   "metadata": {
    "cell_style": "split",
    "slideshow": {
     "slide_type": "fragment"
    }
   },
   "outputs": [
    {
     "data": {
      "text/plain": [
       "array([[1, 2],\n",
       "       [3, 4]])"
      ]
     },
     "execution_count": 40,
     "metadata": {},
     "output_type": "execute_result"
    }
   ],
   "source": [
    "data = np.array([[1,2],[3,4]])\n",
    "data"
   ]
  },
  {
   "cell_type": "code",
   "execution_count": 41,
   "id": "08b4b624",
   "metadata": {
    "cell_style": "split"
   },
   "outputs": [
    {
     "data": {
      "text/plain": [
       "4"
      ]
     },
     "execution_count": 41,
     "metadata": {},
     "output_type": "execute_result"
    }
   ],
   "source": [
    "data.max()"
   ]
  },
  {
   "cell_type": "code",
   "execution_count": 42,
   "id": "ca4f1fc5",
   "metadata": {
    "cell_style": "split",
    "slideshow": {
     "slide_type": "fragment"
    }
   },
   "outputs": [
    {
     "data": {
      "text/plain": [
       "array([3, 4])"
      ]
     },
     "execution_count": 42,
     "metadata": {},
     "output_type": "execute_result"
    }
   ],
   "source": [
    "data.max(axis=0)"
   ]
  },
  {
   "cell_type": "code",
   "execution_count": 43,
   "id": "cb71b7bb",
   "metadata": {
    "cell_style": "split"
   },
   "outputs": [
    {
     "data": {
      "text/plain": [
       "array([2, 4])"
      ]
     },
     "execution_count": 43,
     "metadata": {},
     "output_type": "execute_result"
    }
   ],
   "source": [
    "data.max(axis=1)"
   ]
  },
  {
   "cell_type": "markdown",
   "id": "44f11cdf",
   "metadata": {
    "slideshow": {
     "slide_type": "slide"
    }
   },
   "source": [
    "### NumPy 2-D array math **(basically the same as 1-D)**"
   ]
  },
  {
   "cell_type": "markdown",
   "id": "3865a9b1",
   "metadata": {
    "cell_style": "split",
    "slideshow": {
     "slide_type": "-"
    }
   },
   "source": [
    "<img src=\"images/numpy-2darray-math.drawio.svg\" width=\"100%\">"
   ]
  },
  {
   "cell_type": "code",
   "execution_count": 44,
   "id": "704377ee",
   "metadata": {
    "cell_style": "split",
    "slideshow": {
     "slide_type": "fragment"
    }
   },
   "outputs": [
    {
     "data": {
      "text/plain": [
       "(array([[1, 2],\n",
       "        [3, 4]]),\n",
       " array([[1., 1.],\n",
       "        [1., 1.]]))"
      ]
     },
     "execution_count": 44,
     "metadata": {},
     "output_type": "execute_result"
    }
   ],
   "source": [
    "data = np.array([[1,2],[3,4]])\n",
    "ones = np.ones([2,2])\n",
    "\n",
    "data, ones"
   ]
  },
  {
   "cell_type": "code",
   "execution_count": 45,
   "id": "e331a8b6",
   "metadata": {
    "cell_style": "split"
   },
   "outputs": [
    {
     "data": {
      "text/plain": [
       "array([[2., 3.],\n",
       "       [4., 5.]])"
      ]
     },
     "execution_count": 45,
     "metadata": {},
     "output_type": "execute_result"
    }
   ],
   "source": [
    "data + ones"
   ]
  },
  {
   "cell_type": "code",
   "execution_count": 46,
   "id": "2ddc09ed",
   "metadata": {
    "cell_style": "split"
   },
   "outputs": [
    {
     "data": {
      "text/plain": [
       "array([[ 1,  4],\n",
       "       [ 9, 16]])"
      ]
     },
     "execution_count": 46,
     "metadata": {},
     "output_type": "execute_result"
    }
   ],
   "source": [
    "data**2"
   ]
  },
  {
   "cell_type": "markdown",
   "id": "29146d14",
   "metadata": {
    "slideshow": {
     "slide_type": "slide"
    }
   },
   "source": [
    "### NumPy 2-D logical indexing **(basically the same as 1-D)**"
   ]
  },
  {
   "cell_type": "markdown",
   "id": "74eda321",
   "metadata": {
    "cell_style": "split",
    "slideshow": {
     "slide_type": "-"
    }
   },
   "source": [
    "<img src=\"images/numpy-2darray-logical-slice.drawio.svg\" width=\"100%\">"
   ]
  },
  {
   "cell_type": "code",
   "execution_count": 47,
   "id": "f9b93730",
   "metadata": {
    "cell_style": "split",
    "slideshow": {
     "slide_type": "fragment"
    }
   },
   "outputs": [
    {
     "data": {
      "text/plain": [
       "(array([[1, 2],\n",
       "        [3, 4]]),\n",
       " array([[ True,  True],\n",
       "        [False, False]]))"
      ]
     },
     "execution_count": 47,
     "metadata": {},
     "output_type": "execute_result"
    }
   ],
   "source": [
    "data = np.array([[1,2],[3,4]])\n",
    "mask = data < 3\n",
    "\n",
    "data, mask"
   ]
  },
  {
   "cell_type": "code",
   "execution_count": 48,
   "id": "8a66b7e7",
   "metadata": {
    "cell_style": "split"
   },
   "outputs": [
    {
     "data": {
      "text/plain": [
       "array([1, 2])"
      ]
     },
     "execution_count": 48,
     "metadata": {},
     "output_type": "execute_result"
    }
   ],
   "source": [
    "data[mask]"
   ]
  },
  {
   "cell_type": "markdown",
   "id": "0ef24529",
   "metadata": {
    "slideshow": {
     "slide_type": "slide"
    }
   },
   "source": [
    "### Broadcasting\n",
    "\n",
    "<img src=\"images/numpy-2darray-broadcasting1.drawio.svg\" width=\"75%\">"
   ]
  },
  {
   "cell_type": "code",
   "execution_count": 49,
   "id": "4c3d59b0",
   "metadata": {
    "slideshow": {
     "slide_type": "skip"
    }
   },
   "outputs": [
    {
     "data": {
      "text/plain": [
       "(array([[2, 4, 6],\n",
       "        [5, 7, 9]]),\n",
       " array([[ 1,  2,  3],\n",
       "        [ 8, 10, 12]]))"
      ]
     },
     "execution_count": 49,
     "metadata": {},
     "output_type": "execute_result"
    }
   ],
   "source": [
    "data = np.array([[1,2,3],[4,5,6]])\n",
    "row = np.array([[1,2,3]])\n",
    "col = np.array([[1],[2]])\n",
    "\n",
    "data + row, data * col"
   ]
  },
  {
   "cell_type": "markdown",
   "id": "2f82d8ab",
   "metadata": {
    "slideshow": {
     "slide_type": "slide"
    }
   },
   "source": [
    "### Broadcasting\n",
    "\n",
    "<img src=\"images/numpy-2darray-broadcasting2.drawio.svg\" width=\"75%\">"
   ]
  },
  {
   "cell_type": "code",
   "execution_count": 50,
   "id": "3955c28a",
   "metadata": {
    "slideshow": {
     "slide_type": "skip"
    }
   },
   "outputs": [
    {
     "data": {
      "text/plain": [
       "array([[2, 3, 4],\n",
       "       [3, 4, 5]])"
      ]
     },
     "execution_count": 50,
     "metadata": {},
     "output_type": "execute_result"
    }
   ],
   "source": [
    "row = np.array([[1,2,3]])\n",
    "col = np.array([[1],[2]])\n",
    "\n",
    "row + col"
   ]
  },
  {
   "cell_type": "markdown",
   "id": "39944e0a",
   "metadata": {
    "slideshow": {
     "slide_type": "slide"
    }
   },
   "source": [
    "### Broadcasting\n",
    "\n",
    "<img src=\"images/numpy-2darray-broadcasting3.drawio.svg\" width=\"75%\">"
   ]
  },
  {
   "cell_type": "markdown",
   "id": "dde410f0",
   "metadata": {
    "slideshow": {
     "slide_type": "slide"
    }
   },
   "source": [
    "### Matrix multiplication"
   ]
  },
  {
   "cell_type": "markdown",
   "id": "18351d9b",
   "metadata": {
    "cell_style": "split"
   },
   "source": [
    "<img src=\"images/numpy-2darray-matrix-mult.drawio.svg\" width=\"100%\">"
   ]
  },
  {
   "cell_type": "code",
   "execution_count": 51,
   "id": "4a91d7ff",
   "metadata": {
    "cell_style": "split",
    "slideshow": {
     "slide_type": "fragment"
    }
   },
   "outputs": [
    {
     "data": {
      "text/plain": [
       "(array([1, 2, 3]),\n",
       " array([[ 1, 10],\n",
       "        [ 2, 20],\n",
       "        [ 3, 30]]))"
      ]
     },
     "execution_count": 51,
     "metadata": {},
     "output_type": "execute_result"
    }
   ],
   "source": [
    "data = np.array([1,2,3])\n",
    "tens = np.array([[1,10],[2,20],[3,30]])\n",
    "\n",
    "data, tens"
   ]
  },
  {
   "cell_type": "code",
   "execution_count": 52,
   "id": "20e87a64",
   "metadata": {
    "cell_style": "split"
   },
   "outputs": [
    {
     "data": {
      "text/plain": [
       "array([ 14, 140])"
      ]
     },
     "execution_count": 52,
     "metadata": {},
     "output_type": "execute_result"
    }
   ],
   "source": [
    "data @ tens"
   ]
  },
  {
   "cell_type": "markdown",
   "id": "be95a5d5",
   "metadata": {
    "slideshow": {
     "slide_type": "slide"
    }
   },
   "source": [
    "### Transpose"
   ]
  },
  {
   "cell_type": "markdown",
   "id": "773d6040",
   "metadata": {
    "cell_style": "split"
   },
   "source": [
    "<img src=\"images/numpy-2darray-transpose.drawio.svg\" width=\"100%\">"
   ]
  },
  {
   "cell_type": "code",
   "execution_count": 53,
   "id": "72426dab",
   "metadata": {
    "cell_style": "split",
    "slideshow": {
     "slide_type": "fragment"
    }
   },
   "outputs": [
    {
     "data": {
      "text/plain": [
       "array([[1, 2, 3],\n",
       "       [4, 5, 6]])"
      ]
     },
     "execution_count": 53,
     "metadata": {},
     "output_type": "execute_result"
    }
   ],
   "source": [
    "data = np.array([[1,2,3],[4,5,6]])\n",
    "data"
   ]
  },
  {
   "cell_type": "code",
   "execution_count": 54,
   "id": "03948b56",
   "metadata": {
    "cell_style": "split"
   },
   "outputs": [
    {
     "data": {
      "text/plain": [
       "array([[1, 4],\n",
       "       [2, 5],\n",
       "       [3, 6]])"
      ]
     },
     "execution_count": 54,
     "metadata": {},
     "output_type": "execute_result"
    }
   ],
   "source": [
    "data.T"
   ]
  },
  {
   "cell_type": "markdown",
   "id": "610dfa63",
   "metadata": {
    "slideshow": {
     "slide_type": "slide"
    }
   },
   "source": [
    "### Reshape"
   ]
  },
  {
   "cell_type": "markdown",
   "id": "ac01f59b",
   "metadata": {
    "cell_style": "split"
   },
   "source": [
    "<img src=\"images/numpy-2darray-reshape.drawio.svg\" width=\"100%\">"
   ]
  },
  {
   "cell_type": "code",
   "execution_count": 55,
   "id": "96a1fa5d",
   "metadata": {
    "cell_style": "split",
    "slideshow": {
     "slide_type": "fragment"
    }
   },
   "outputs": [
    {
     "data": {
      "text/plain": [
       "array([1, 2, 3, 4, 5, 6])"
      ]
     },
     "execution_count": 55,
     "metadata": {},
     "output_type": "execute_result"
    }
   ],
   "source": [
    "data = np.arange(1,7)\n",
    "data"
   ]
  },
  {
   "cell_type": "code",
   "execution_count": 56,
   "id": "38a9747f",
   "metadata": {
    "cell_style": "split"
   },
   "outputs": [
    {
     "data": {
      "text/plain": [
       "array([[1, 2, 3],\n",
       "       [4, 5, 6]])"
      ]
     },
     "execution_count": 56,
     "metadata": {},
     "output_type": "execute_result"
    }
   ],
   "source": [
    "data.reshape(2,3)"
   ]
  },
  {
   "cell_type": "markdown",
   "id": "96213540",
   "metadata": {
    "cell_style": "center",
    "slideshow": {
     "slide_type": "slide"
    }
   },
   "source": [
    "# NumPy N-D arrays\n",
    "\n",
    "**Learning goals**\n",
    "- You will be able to work with arrays of any number of dimensions.\n",
    "- You will be able to index/slice into arrays of any number of dimensions.\n",
    "- You will appreciate the usefulness of N-D arrays for real data.\n",
    "- You will understand that each array can only contain a single type of data.\n",
    "- You will appreciate that NumPy is fast."
   ]
  },
  {
   "cell_type": "markdown",
   "id": "eda7aedb",
   "metadata": {
    "slideshow": {
     "slide_type": "slide"
    }
   },
   "source": [
    "### NumPy 3-D arrays\n",
    "\n",
    "<img src=\"images/numpy-3darray-init.drawio.svg\" width=\"75%\">"
   ]
  },
  {
   "cell_type": "markdown",
   "id": "335a977c",
   "metadata": {
    "slideshow": {
     "slide_type": "slide"
    }
   },
   "source": [
    "### Array shape\n",
    "\n",
    "<img src=\"images/numpy-shape.png\" widht=\"75%\">"
   ]
  },
  {
   "cell_type": "markdown",
   "id": "ae727947",
   "metadata": {
    "slideshow": {
     "slide_type": "slide"
    }
   },
   "source": [
    "### Array shape"
   ]
  },
  {
   "cell_type": "markdown",
   "id": "76ddb310",
   "metadata": {
    "cell_style": "split"
   },
   "source": [
    "<img src=\"images/numpy-3darray-shape.drawio.svg\" width=\"75%\">"
   ]
  },
  {
   "cell_type": "code",
   "execution_count": 57,
   "id": "eb55b388",
   "metadata": {
    "cell_style": "split"
   },
   "outputs": [
    {
     "data": {
      "text/plain": [
       "(4, 3, 2)"
      ]
     },
     "execution_count": 57,
     "metadata": {},
     "output_type": "execute_result"
    }
   ],
   "source": [
    "# data is represented in previous image\n",
    "data = np.arange(1,25).reshape(4,3,2)\n",
    "\n",
    "data.shape"
   ]
  },
  {
   "cell_type": "code",
   "execution_count": 58,
   "id": "baf16b2d",
   "metadata": {
    "cell_style": "split",
    "slideshow": {
     "slide_type": "fragment"
    }
   },
   "outputs": [
    {
     "data": {
      "text/plain": [
       "(4, 3, 2)"
      ]
     },
     "execution_count": 58,
     "metadata": {},
     "output_type": "execute_result"
    }
   ],
   "source": [
    "rows = data.shape[0]\n",
    "cols = data.shape[1]\n",
    "depth = data.shape[2]\n",
    "\n",
    "rows, cols, depth"
   ]
  },
  {
   "cell_type": "code",
   "execution_count": 59,
   "id": "b1fec6a4",
   "metadata": {
    "cell_style": "split",
    "slideshow": {
     "slide_type": "fragment"
    }
   },
   "outputs": [
    {
     "data": {
      "text/plain": [
       "(4, 3, 2)"
      ]
     },
     "execution_count": 59,
     "metadata": {},
     "output_type": "execute_result"
    }
   ],
   "source": [
    "rows, cols, depth = data.shape\n",
    "\n",
    "rows, cols, depth"
   ]
  },
  {
   "cell_type": "markdown",
   "id": "23d38b64",
   "metadata": {
    "slideshow": {
     "slide_type": "slide"
    }
   },
   "source": [
    "### NumPy 3-D array indexing/slicing"
   ]
  },
  {
   "cell_type": "markdown",
   "id": "f65c1d88",
   "metadata": {
    "cell_style": "split"
   },
   "source": [
    "<img src=\"images/numpy-3darray-index.drawio.svg\" width=\"50%\">"
   ]
  },
  {
   "cell_type": "code",
   "execution_count": 60,
   "id": "c57d8a44",
   "metadata": {
    "cell_style": "split"
   },
   "outputs": [
    {
     "data": {
      "text/plain": [
       "6"
      ]
     },
     "execution_count": 60,
     "metadata": {},
     "output_type": "execute_result"
    }
   ],
   "source": [
    "data[0,2,1]"
   ]
  },
  {
   "cell_type": "markdown",
   "id": "3d527f8d",
   "metadata": {
    "slideshow": {
     "slide_type": "slide"
    }
   },
   "source": [
    "### NumPy 3-D array indexing/slicing"
   ]
  },
  {
   "cell_type": "markdown",
   "id": "b96e1b77",
   "metadata": {
    "cell_style": "split"
   },
   "source": [
    "<img src=\"images/numpy-3darray-slice1.drawio.svg\" width=\"50%\">"
   ]
  },
  {
   "cell_type": "code",
   "execution_count": 61,
   "id": "2aefbddc",
   "metadata": {
    "cell_style": "split"
   },
   "outputs": [
    {
     "data": {
      "text/plain": [
       "array([[ 5,  6],\n",
       "       [11, 12],\n",
       "       [17, 18],\n",
       "       [23, 24]])"
      ]
     },
     "execution_count": 61,
     "metadata": {},
     "output_type": "execute_result"
    }
   ],
   "source": [
    "data[:,-1,:]"
   ]
  },
  {
   "cell_type": "code",
   "execution_count": 62,
   "id": "2215887c",
   "metadata": {
    "cell_style": "split",
    "slideshow": {
     "slide_type": "fragment"
    }
   },
   "outputs": [
    {
     "data": {
      "text/plain": [
       "array([[ 5,  6],\n",
       "       [11, 12],\n",
       "       [17, 18],\n",
       "       [23, 24]])"
      ]
     },
     "execution_count": 62,
     "metadata": {},
     "output_type": "execute_result"
    }
   ],
   "source": [
    "data[:,-1]"
   ]
  },
  {
   "cell_type": "markdown",
   "id": "3733de39",
   "metadata": {
    "slideshow": {
     "slide_type": "slide"
    }
   },
   "source": [
    "### NumPy 3-D array indexing/slicing"
   ]
  },
  {
   "cell_type": "markdown",
   "id": "a8775714",
   "metadata": {
    "cell_style": "split"
   },
   "source": [
    "<img src=\"images/numpy-3darray-slice2.drawio.svg\" width=\"50%\">"
   ]
  },
  {
   "cell_type": "code",
   "execution_count": 63,
   "id": "b989a2f4",
   "metadata": {
    "cell_style": "split"
   },
   "outputs": [
    {
     "data": {
      "text/plain": [
       "array([ 6, 18])"
      ]
     },
     "execution_count": 63,
     "metadata": {},
     "output_type": "execute_result"
    }
   ],
   "source": [
    "data[::2,2,1]"
   ]
  },
  {
   "cell_type": "markdown",
   "id": "adb37bc6",
   "metadata": {
    "slideshow": {
     "slide_type": "slide"
    }
   },
   "source": [
    "### **3-D**: EEG *time series* for multiple *channels, trials*\n",
    "\n",
    "<img src=\"images/EEGs-3d.png\">"
   ]
  },
  {
   "cell_type": "markdown",
   "id": "739e1406",
   "metadata": {
    "cell_style": "split",
    "slideshow": {
     "slide_type": "slide"
    }
   },
   "source": [
    "<img src=\"images/EEGs-channels-trials.png\" width=\"100%\">"
   ]
  },
  {
   "cell_type": "code",
   "execution_count": 64,
   "id": "7949200f",
   "metadata": {
    "cell_style": "split"
   },
   "outputs": [
    {
     "data": {
      "text/plain": [
       "(10, 500, 3)"
      ]
     },
     "execution_count": 64,
     "metadata": {},
     "output_type": "execute_result"
    }
   ],
   "source": [
    "n_channels = 10\n",
    "n_time_pts = 500\n",
    "n_trials = 3\n",
    "\n",
    "# fake EEGs\n",
    "EEGs = np.random.random(\n",
    "    [n_channels, n_time_pts, n_trials]\n",
    ")\n",
    "\n",
    "EEGs.shape"
   ]
  },
  {
   "cell_type": "code",
   "execution_count": null,
   "id": "fa5a7746",
   "metadata": {
    "slideshow": {
     "slide_type": "skip"
    }
   },
   "outputs": [],
   "source": []
  },
  {
   "cell_type": "markdown",
   "id": "542b8368",
   "metadata": {
    "cell_style": "split",
    "slideshow": {
     "slide_type": "slide"
    }
   },
   "source": [
    "<img src=\"images/EEGs-channel1-trial2.png\" width=\"100%\">"
   ]
  },
  {
   "cell_type": "code",
   "execution_count": 65,
   "id": "0d7182cc",
   "metadata": {
    "cell_style": "split",
    "slideshow": {
     "slide_type": "-"
    }
   },
   "outputs": [
    {
     "data": {
      "text/plain": [
       "(500,)"
      ]
     },
     "execution_count": 65,
     "metadata": {},
     "output_type": "execute_result"
    }
   ],
   "source": [
    "# data = channel 1, trial 2\n",
    "\n",
    "data = EEGs[1,:,2]\n",
    "\n",
    "data.shape"
   ]
  },
  {
   "cell_type": "code",
   "execution_count": null,
   "id": "1025ebca",
   "metadata": {
    "slideshow": {
     "slide_type": "skip"
    }
   },
   "outputs": [],
   "source": []
  },
  {
   "cell_type": "markdown",
   "id": "ebcf8d5b",
   "metadata": {
    "cell_style": "split",
    "slideshow": {
     "slide_type": "slide"
    }
   },
   "source": [
    "<img src=\"images/EEGs-channel1.png\" width=\"100%\">"
   ]
  },
  {
   "cell_type": "code",
   "execution_count": 66,
   "id": "77acac92",
   "metadata": {
    "cell_style": "split"
   },
   "outputs": [
    {
     "data": {
      "text/plain": [
       "(500, 3)"
      ]
     },
     "execution_count": 66,
     "metadata": {},
     "output_type": "execute_result"
    }
   ],
   "source": [
    "# data = channel 1, all trials\n",
    "\n",
    "data = EEGs[1,:,:]\n",
    "\n",
    "data.shape"
   ]
  },
  {
   "cell_type": "code",
   "execution_count": 67,
   "id": "ded1c204",
   "metadata": {
    "cell_style": "split",
    "slideshow": {
     "slide_type": "fragment"
    }
   },
   "outputs": [
    {
     "data": {
      "text/plain": [
       "(500,)"
      ]
     },
     "execution_count": 67,
     "metadata": {},
     "output_type": "execute_result"
    }
   ],
   "source": [
    "# channel 1 trial average\n",
    "\n",
    "chan1_avg = data.mean(axis=1)\n",
    "\n",
    "# chan1_avg = EEGs[1,:,:].mean(axis=1)\n",
    "\n",
    "chan1_avg.shape"
   ]
  },
  {
   "cell_type": "code",
   "execution_count": null,
   "id": "14c34821",
   "metadata": {
    "slideshow": {
     "slide_type": "skip"
    }
   },
   "outputs": [],
   "source": []
  },
  {
   "cell_type": "markdown",
   "id": "62438830",
   "metadata": {
    "cell_style": "split",
    "slideshow": {
     "slide_type": "slide"
    }
   },
   "source": [
    "<img src=\"images/EEGs-trial1.png\" width=\"100%\">"
   ]
  },
  {
   "cell_type": "code",
   "execution_count": 68,
   "id": "36c4d30a",
   "metadata": {
    "cell_style": "split",
    "slideshow": {
     "slide_type": "-"
    }
   },
   "outputs": [
    {
     "data": {
      "text/plain": [
       "(10, 500)"
      ]
     },
     "execution_count": 68,
     "metadata": {},
     "output_type": "execute_result"
    }
   ],
   "source": [
    "# data = all channels, trial 1\n",
    "\n",
    "data = EEGs[:,:,1]\n",
    "\n",
    "data.shape"
   ]
  },
  {
   "cell_type": "code",
   "execution_count": 69,
   "id": "7f41595e",
   "metadata": {
    "cell_style": "split",
    "slideshow": {
     "slide_type": "fragment"
    }
   },
   "outputs": [
    {
     "data": {
      "text/plain": [
       "(500,)"
      ]
     },
     "execution_count": 69,
     "metadata": {},
     "output_type": "execute_result"
    }
   ],
   "source": [
    "# average EEG across channels for trial 1\n",
    "\n",
    "trial1_avg = data.mean(axis=0)\n",
    "\n",
    "# trial1_avg = EEGs[:,:,1].mean(axis=0)\n",
    "\n",
    "trial1_avg.shape"
   ]
  },
  {
   "cell_type": "code",
   "execution_count": null,
   "id": "f58db236",
   "metadata": {
    "slideshow": {
     "slide_type": "skip"
    }
   },
   "outputs": [],
   "source": []
  },
  {
   "cell_type": "markdown",
   "id": "40eef1dc",
   "metadata": {
    "cell_style": "split",
    "slideshow": {
     "slide_type": "slide"
    }
   },
   "source": [
    "<img src=\"images/EEGs-channels2-4-time250-trial0.png\" width=\"100%\">"
   ]
  },
  {
   "cell_type": "code",
   "execution_count": 70,
   "id": "1f1c72bc",
   "metadata": {
    "cell_style": "split",
    "slideshow": {
     "slide_type": "fragment"
    }
   },
   "outputs": [
    {
     "data": {
      "text/plain": [
       "(3, 250)"
      ]
     },
     "execution_count": 70,
     "metadata": {},
     "output_type": "execute_result"
    }
   ],
   "source": [
    "# data = channels 2-4, trial 0,\n",
    "#        first 250 time pts\n",
    "\n",
    "data = EEGs[2:5,:250,0]\n",
    "\n",
    "data.shape"
   ]
  },
  {
   "cell_type": "markdown",
   "id": "d392f3eb",
   "metadata": {
    "slideshow": {
     "slide_type": "slide"
    }
   },
   "source": [
    "### **4-D**: EEG *time series* for multiple *subjects, channels, trials*"
   ]
  },
  {
   "cell_type": "code",
   "execution_count": 71,
   "id": "7712416a",
   "metadata": {
    "slideshow": {
     "slide_type": "-"
    }
   },
   "outputs": [
    {
     "data": {
      "text/plain": [
       "(15, 10, 500, 3)"
      ]
     },
     "execution_count": 71,
     "metadata": {},
     "output_type": "execute_result"
    }
   ],
   "source": [
    "n_subjects = 15\n",
    "n_channels = 10\n",
    "n_time_pts = 500\n",
    "n_trials = 3\n",
    "\n",
    "# fake EEGs\n",
    "EEGs = np.random.random(\n",
    "    [n_subjects, n_channels, n_time_pts, n_trials]\n",
    ")\n",
    "\n",
    "EEGs.shape"
   ]
  },
  {
   "cell_type": "code",
   "execution_count": 72,
   "id": "670bd218",
   "metadata": {
    "cell_style": "split",
    "slideshow": {
     "slide_type": "fragment"
    }
   },
   "outputs": [
    {
     "data": {
      "text/plain": [
       "(10, 500, 3)"
      ]
     },
     "execution_count": 72,
     "metadata": {},
     "output_type": "execute_result"
    }
   ],
   "source": [
    "# data = everything for subject 7\n",
    "data = EEGs[7,:,:,:]\n",
    "data.shape"
   ]
  },
  {
   "cell_type": "code",
   "execution_count": 73,
   "id": "970412ff",
   "metadata": {
    "cell_style": "split",
    "slideshow": {
     "slide_type": "fragment"
    }
   },
   "outputs": [
    {
     "data": {
      "text/plain": [
       "(10, 500, 3)"
      ]
     },
     "execution_count": 73,
     "metadata": {},
     "output_type": "execute_result"
    }
   ],
   "source": [
    "# data = everything for subject 7\n",
    "data = EEGs[7]\n",
    "data.shape"
   ]
  },
  {
   "cell_type": "code",
   "execution_count": 74,
   "id": "35798c4c",
   "metadata": {
    "slideshow": {
     "slide_type": "fragment"
    }
   },
   "outputs": [
    {
     "data": {
      "text/plain": [
       "(15, 500)"
      ]
     },
     "execution_count": 74,
     "metadata": {},
     "output_type": "execute_result"
    }
   ],
   "source": [
    "# data = all subjects, channel 3, trial 2\n",
    "data = EEGs[:,3,:,2]\n",
    "data.shape"
   ]
  },
  {
   "cell_type": "markdown",
   "id": "882b9d52",
   "metadata": {
    "slideshow": {
     "slide_type": "slide"
    }
   },
   "source": [
    "### As long as you know how your data array is structured, it is simple to get whatever portions of data you want.\n",
    "\n",
    "```python\n",
    "EEGs[subject, channel, time, trial, condition, sex, age, ...]\n",
    "```\n",
    "\n",
    "### Just input the desired index or indexes along each dimension. **Yes, it's that easy!**"
   ]
  },
  {
   "cell_type": "markdown",
   "id": "5d902dd7",
   "metadata": {
    "slideshow": {
     "slide_type": "slide"
    }
   },
   "source": [
    "### Array data type\n",
    "\n",
    "NumPy arrays must contain data of **only a single type** *(e.g., float, int, bool, etc.)*\n",
    "\n",
    "You **cannot mix different types of data** in a single array like you can in a Python list."
   ]
  },
  {
   "cell_type": "code",
   "execution_count": 75,
   "id": "8b695df5",
   "metadata": {},
   "outputs": [
    {
     "data": {
      "text/plain": [
       "array([[0.15187631, 0.13323444, 0.27032076],\n",
       "       [0.79030714, 0.96409636, 0.47234137]])"
      ]
     },
     "execution_count": 75,
     "metadata": {},
     "output_type": "execute_result"
    }
   ],
   "source": [
    "data = np.random.random([2,3])\n",
    "data"
   ]
  },
  {
   "cell_type": "code",
   "execution_count": 76,
   "id": "cdd1853b",
   "metadata": {},
   "outputs": [
    {
     "data": {
      "text/plain": [
       "dtype('float64')"
      ]
     },
     "execution_count": 76,
     "metadata": {},
     "output_type": "execute_result"
    }
   ],
   "source": [
    "data.dtype"
   ]
  },
  {
   "cell_type": "code",
   "execution_count": 77,
   "id": "6891e3a8",
   "metadata": {
    "cell_style": "center",
    "slideshow": {
     "slide_type": "slide"
    }
   },
   "outputs": [
    {
     "data": {
      "text/plain": [
       "array([0, 1, 2, 3, 4])"
      ]
     },
     "execution_count": 77,
     "metadata": {},
     "output_type": "execute_result"
    }
   ],
   "source": [
    "data = np.arange(5)\n",
    "data"
   ]
  },
  {
   "cell_type": "code",
   "execution_count": 78,
   "id": "9b1ad114",
   "metadata": {
    "cell_style": "center"
   },
   "outputs": [
    {
     "data": {
      "text/plain": [
       "dtype('int64')"
      ]
     },
     "execution_count": 78,
     "metadata": {},
     "output_type": "execute_result"
    }
   ],
   "source": [
    "data.dtype"
   ]
  },
  {
   "cell_type": "code",
   "execution_count": 79,
   "id": "a3343af8",
   "metadata": {
    "slideshow": {
     "slide_type": "fragment"
    }
   },
   "outputs": [
    {
     "data": {
      "text/plain": [
       "array([0., 1., 2., 3., 4.])"
      ]
     },
     "execution_count": 79,
     "metadata": {},
     "output_type": "execute_result"
    }
   ],
   "source": [
    "data = np.arange(5).astype(float)\n",
    "data"
   ]
  },
  {
   "cell_type": "code",
   "execution_count": 80,
   "id": "5e701379",
   "metadata": {},
   "outputs": [
    {
     "data": {
      "text/plain": [
       "dtype('float64')"
      ]
     },
     "execution_count": 80,
     "metadata": {},
     "output_type": "execute_result"
    }
   ],
   "source": [
    "data.dtype"
   ]
  },
  {
   "cell_type": "code",
   "execution_count": 81,
   "id": "39db7037",
   "metadata": {
    "slideshow": {
     "slide_type": "fragment"
    }
   },
   "outputs": [
    {
     "data": {
      "text/plain": [
       "(array([[0.33768618, 0.63979362, 1.78346574],\n",
       "        [4.93966793, 4.45008176, 0.81904804]]),\n",
       " array([[0, 0, 1],\n",
       "        [4, 4, 0]]))"
      ]
     },
     "execution_count": 81,
     "metadata": {},
     "output_type": "execute_result"
    }
   ],
   "source": [
    "floats = np.random.random([2,3]) * 10\n",
    "ints = floats.astype(int)\n",
    "\n",
    "floats, ints"
   ]
  },
  {
   "cell_type": "code",
   "execution_count": 82,
   "id": "b09d5cc7",
   "metadata": {
    "slideshow": {
     "slide_type": "slide"
    }
   },
   "outputs": [
    {
     "data": {
      "text/plain": [
       "array([0., 0., 0.])"
      ]
     },
     "execution_count": 82,
     "metadata": {},
     "output_type": "execute_result"
    }
   ],
   "source": [
    "np.zeros(3)"
   ]
  },
  {
   "cell_type": "code",
   "execution_count": 83,
   "id": "72fcb1d6",
   "metadata": {},
   "outputs": [
    {
     "data": {
      "text/plain": [
       "array([0., 0., 0.])"
      ]
     },
     "execution_count": 83,
     "metadata": {},
     "output_type": "execute_result"
    }
   ],
   "source": [
    "np.zeros(3, dtype=float)"
   ]
  },
  {
   "cell_type": "code",
   "execution_count": 84,
   "id": "655b7b23",
   "metadata": {},
   "outputs": [
    {
     "data": {
      "text/plain": [
       "array([0, 0, 0])"
      ]
     },
     "execution_count": 84,
     "metadata": {},
     "output_type": "execute_result"
    }
   ],
   "source": [
    "np.zeros(3, dtype=int)"
   ]
  },
  {
   "cell_type": "code",
   "execution_count": 85,
   "id": "57afb12b",
   "metadata": {},
   "outputs": [
    {
     "data": {
      "text/plain": [
       "array([False, False, False])"
      ]
     },
     "execution_count": 85,
     "metadata": {},
     "output_type": "execute_result"
    }
   ],
   "source": [
    "np.zeros(3, dtype=bool)"
   ]
  },
  {
   "cell_type": "markdown",
   "id": "175c4a3b",
   "metadata": {
    "slideshow": {
     "slide_type": "slide"
    }
   },
   "source": [
    "### NumPy is much faster than basic Python"
   ]
  },
  {
   "cell_type": "code",
   "execution_count": 86,
   "id": "f772c572",
   "metadata": {},
   "outputs": [
    {
     "name": "stdout",
     "output_type": "stream",
     "text": [
      "917 µs ± 9.53 µs per loop (mean ± std. dev. of 7 runs, 1,000 loops each)\n"
     ]
    }
   ],
   "source": [
    "%%timeit\n",
    "# time this entire cell\n",
    "\n",
    "tot = 0\n",
    "for i in range(50000):\n",
    "    tot += i"
   ]
  },
  {
   "cell_type": "code",
   "execution_count": 87,
   "id": "113ba051",
   "metadata": {
    "slideshow": {
     "slide_type": "fragment"
    }
   },
   "outputs": [
    {
     "name": "stdout",
     "output_type": "stream",
     "text": [
      "20.1 µs ± 95.2 ns per loop (mean ± std. dev. of 7 runs, 10,000 loops each)\n"
     ]
    }
   ],
   "source": [
    "# time a single line\n",
    "%timeit np.arange(50000).sum()"
   ]
  }
 ],
 "metadata": {
  "celltoolbar": "Slideshow",
  "kernelspec": {
   "display_name": "Python 3 (ipykernel)",
   "language": "python",
   "name": "python3"
  },
  "language_info": {
   "codemirror_mode": {
    "name": "ipython",
    "version": 3
   },
   "file_extension": ".py",
   "mimetype": "text/x-python",
   "name": "python",
   "nbconvert_exporter": "python",
   "pygments_lexer": "ipython3",
   "version": "3.12.5"
  },
  "rise": {
   "enable_chalkboard": true,
   "scroll": true,
   "theme": "white"
  },
  "vscode": {
   "interpreter": {
    "hash": "7b6fce1537a0f61b09a1c0f374c9c73e53e0122f3da97a6f70c30069bc6a1f20"
   }
  }
 },
 "nbformat": 4,
 "nbformat_minor": 5
}
